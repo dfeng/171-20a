{
 "cells": [
  {
   "cell_type": "markdown",
   "metadata": {},
   "source": [
    "## Lab 05: State of the Union Addresses (2/2)\n",
    "\n",
    "[![Washington](Washington_sotu.jpg)](https://en.wikipedia.org/wiki/File:Washington_-_State_of_the_Union.djvu)\n",
    "\n",
    "In this lab we will continue working the transcripts of the State of the Union addresses. This time we will build a type of \"social network\" of who refers to whom. We'll first restrict to the presidents themselves, and then expand the set of people. We'll get some more practice with the skills used in the Gutenberg books, and see how to draw certain types of networks in Python.\n",
    "\n",
    "<br>\n",
    "\n"
   ]
  },
  {
   "cell_type": "markdown",
   "metadata": {},
   "source": [
    "## 1. Loading in the data\n",
    "\n",
    "You know the beginning routine..."
   ]
  },
  {
   "cell_type": "code",
   "execution_count": null,
   "metadata": {},
   "outputs": [],
   "source": [
    "from datascience import *\n",
    "import numpy as np\n",
    "import re\n",
    "\n",
    "# direct plots to appear within the cell, and set their style\n",
    "%matplotlib inline\n",
    "import matplotlib.pyplot as plots\n",
    "plots.style.use('fivethirtyeight')\n"
   ]
  },
  {
   "cell_type": "markdown",
   "metadata": {},
   "source": [
    "Recall the `json` format for our transcripts:\n",
    "\n",
    "```\n",
    "{\n",
    "   \"date\": \"2017-02-28\",\n",
    "   \"president\": \"Donald J. Trump\",\n",
    "   \"title\": \"Address Before a Joint Session of the Congress\",\n",
    "   \"url\": \"http://www.presidency.ucsb.edu/ws/index.php?pid=123408\",\n",
    "   \"transcript\": \"Thank you very much. Mr. Speaker, Mr. Vice President, Members of Congress, the First Lady of the United States, and citizens of America: Tonight, as we mark the conclusion of our celebration of Black History Month, we are reminded of our Nation's path towards civil rights and the work that still remains to be done. Recent threats targeting Jewish community centers and vandalism of Jewish cemeteries, as well as last week's shooting in Kansas City, remind us that while we may be a nation divided on policies, we are a country that stands united in condemning hate and evil in all of its very ugly forms. Each American generation passes the torch of truth, liberty, and justice in an unbroken chain, all the way down to the present. That torch is now in our hands, and we will use it to light up the world. I am here tonight to deliver a message of unity and strength, and it is a message deeply delivered from my heart.\n",
    "```\n",
    "\n",
    "As before, we'll read this in with the `json` package and load the meta-data and transcript for each speech into a `Table`. This is the same code from Lab 04."
   ]
  },
  {
   "cell_type": "code",
   "execution_count": null,
   "metadata": {
    "scrolled": true
   },
   "outputs": [],
   "source": [
    "import json\n",
    "with open('transcripts.json') as f:\n",
    "    data = json.load(f)\n",
    "    \n",
    "import datetime\n",
    "\n",
    "dates = []\n",
    "presidents = []\n",
    "transcripts = []\n",
    "years = []\n",
    "\n",
    "for a in np.arange(len(data)):\n",
    "    dates.append(data[a]['date'])\n",
    "    presidents.append(data[a]['president'])\n",
    "    transcripts.append(data[a]['transcript'])\n",
    "    year = datetime.datetime.strptime(data[a]['date'], \"%Y-%m-%d\").year\n",
    "    years.append(year)\n",
    "\n",
    "speeches = Table().with_columns('Date', dates, 'Year', years, 'President', presidents, 'Transcript', transcripts)\n",
    "speeches = speeches.sort('Date', descending=True)\n",
    "speeches.show(16)\n",
    "speeches.sort('Date', descending=False).show(16)"
   ]
  },
  {
   "cell_type": "markdown",
   "metadata": {},
   "source": [
    "And here is our function to plot the counts of a particular word. We'll add a hook allowing us to toggle whether to display it as a barplot or curve."
   ]
  },
  {
   "cell_type": "code",
   "execution_count": null,
   "metadata": {
    "scrolled": true
   },
   "outputs": [],
   "source": [
    "import matplotlib.pyplot as plt\n",
    "%matplotlib inline\n",
    "\n",
    "def mentions_of_word(word, show_table=False, curve=False):\n",
    "    word = word.lower()\n",
    "    count = []\n",
    "    for s in np.arange(speeches.num_rows):\n",
    "        matches = re.findall('\\s%s\\s' % word, speeches.column('Transcript')[s].lower())\n",
    "        count.append(len(matches))\n",
    "    \n",
    "    sotu = speeches.with_columns('Count', count)\n",
    "    if (show_table):\n",
    "        sotu.show(10)\n",
    "\n",
    "    fig = plt.figure()\n",
    "    fig.set_size_inches(11,4)\n",
    "    if curve:\n",
    "        plt.plot(sotu.column('Year'), sotu.column('Count'), alpha=0.5, color='darkblue', linewidth=2)\n",
    "    else:\n",
    "        plt.bar(sotu.column('Year'), sotu.column('Count'), align='center', alpha=0.5, color='salmon')\n",
    "    plt.xlabel('year')\n",
    "    plt.ylabel('count')\n",
    "    plt.title('Mentions of \"%s\"' % word)\n",
    "    plt.show()\n",
    "    \n"
   ]
  },
  {
   "cell_type": "markdown",
   "metadata": {},
   "source": [
    "Let's go ahead and plot a few, starting with a couple of things that are inevitable in life, so they say. Run the following:"
   ]
  },
  {
   "cell_type": "code",
   "execution_count": null,
   "metadata": {},
   "outputs": [],
   "source": [
    "mentions_of_word('taxes', curve=True)\n",
    "mentions_of_word('death', curve=True)"
   ]
  },
  {
   "cell_type": "markdown",
   "metadata": {},
   "source": [
    "## 2. Pasting together all of the speeches for each President\n",
    "\n",
    "Our next task is going to be to collect all of the SOTUs together for each individual president. To begin, let's think of how we might approach this using some `Table` operations. To make things easier to test, let's just form a small table that we can quickly manipulate."
   ]
  },
  {
   "cell_type": "code",
   "execution_count": null,
   "metadata": {
    "scrolled": false
   },
   "outputs": [],
   "source": [
    "icecream = Table().with_columns(\n",
    "    'Flavor', make_array('strawberry', 'chocolate', 'chocolate', 'strawberry', 'chocolate', 'vanilla', 'vanilla'),\n",
    "    'Variety', make_array('sugar free', 'dark', 'milk', 'dairy free', 'awesome', 'plain', 'sugar free')\n",
    ")\n",
    "icecream"
   ]
  },
  {
   "cell_type": "markdown",
   "metadata": {},
   "source": [
    "Now, let's take this table and for each flavor, concatenate together all of the varieties into a single strong. To do this, we'll first group by `Flavor`, and pull out all of the flavors. Then we'll iterate through the flavors, and join all of the varieties. *Study this code to make sure you understand how it works!* Talk about it amongst yourselves!"
   ]
  },
  {
   "cell_type": "code",
   "execution_count": null,
   "metadata": {},
   "outputs": [],
   "source": [
    "flavors = icecream.group('Flavor')[0]\n",
    "\n",
    "varieties = []\n",
    "for flavor in flavors:\n",
    "    flavor_varieties = ', '.join(icecream.where('Flavor', flavor)[1])\n",
    "    varieties.append(flavor_varieties)\n",
    "\n",
    "Table().with_columns('Flavor', flavors, 'Varieties', varieties)"
   ]
  },
  {
   "cell_type": "markdown",
   "metadata": {},
   "source": [
    "Ok, now we want to do this for the SOTUs, where `Flavor -> President` and `Variety -> Transcript`. First, we'll get a list of all the presidents by grouping by `President`, applying the `min` operation to pull out the first year each was in office."
   ]
  },
  {
   "cell_type": "code",
   "execution_count": null,
   "metadata": {
    "scrolled": true
   },
   "outputs": [],
   "source": [
    "presidents = speeches.drop('Date', 'Transcript').group(['President'], min).sort('Year min')\n",
    "presidents.show()"
   ]
  },
  {
   "cell_type": "markdown",
   "metadata": {},
   "source": [
    "Who was president in 1849, and how long did he serve?"
   ]
  },
  {
   "cell_type": "code",
   "execution_count": null,
   "metadata": {},
   "outputs": [],
   "source": [
    "president_1849 = ...\n",
    "term_ended = ..."
   ]
  },
  {
   "cell_type": "markdown",
   "metadata": {},
   "source": [
    "Great! Next we'll iterate through the presidents (flavors) and join together their speeches (varieties). We'll call the resulting table `collected_speeches`."
   ]
  },
  {
   "cell_type": "code",
   "execution_count": null,
   "metadata": {
    "scrolled": true
   },
   "outputs": [],
   "source": [
    "\n",
    "transcripts = []\n",
    "for prez in presidents[0]:\n",
    "    collected_transcripts = ' '.join(speeches.where('President', prez)[3])\n",
    "    transcripts.append(collected_transcripts)\n",
    "    \n",
    "collected_speeches = Table().with_columns('President', presidents[0], 'SOTUs', transcripts)\n",
    "collected_speeches.show()"
   ]
  },
  {
   "cell_type": "markdown",
   "metadata": {},
   "source": [
    "## 3. Plotting counts by president\n",
    "\n",
    "This now makes it convient to modify our earlier `mentions_of_word` function to count the number of times a word is used by each president, across all of their speeches. The following function `presidents_mentions_of_word` is then a simple modification of our earlier function."
   ]
  },
  {
   "cell_type": "code",
   "execution_count": null,
   "metadata": {},
   "outputs": [],
   "source": [
    "import matplotlib.pyplot as plt\n",
    "%matplotlib inline\n",
    "\n",
    "def presidents_mentions_of_word(word, show_table=False):\n",
    "    count = []\n",
    "    for i in np.arange(collected_speeches.num_rows):\n",
    "        matches = re.findall('\\s%s\\s' % word, collected_speeches.column('SOTUs')[i])\n",
    "        count.append(len(matches))\n",
    "    \n",
    "    sotu = collected_speeches.drop('SOTUs').with_columns('Count', count)\n",
    "    if (show_table):\n",
    "        sotu.show(42)\n",
    "    return sotu\n"
   ]
  },
  {
   "cell_type": "markdown",
   "metadata": {},
   "source": [
    "Now we'll make a bar plot of the word counts across the presidents. Let's try this out on the proverbial two things we can't avoid in life: death and taxes."
   ]
  },
  {
   "cell_type": "code",
   "execution_count": null,
   "metadata": {},
   "outputs": [],
   "source": [
    "words = ['taxes', 'death']\n",
    "\n",
    "for word in words:\n",
    "    table = presidents_mentions_of_word(word, show_table=False)\n",
    "    table.barh('President', 'Count')\n",
    "    _ = plots.title('SOTU mentions of \"%s\"' % word)\n"
   ]
  },
  {
   "cell_type": "markdown",
   "metadata": {},
   "source": [
    "###  Whence death?\n",
    "\n",
    "Huh. It seems that Theodore Roosevelt and Richard Nixon were particularly interested in death. Can you understand why? Try browsing their addresses to understand the context in which death is mentioned. You can either look at the speeches here, or---more conveniently---browse them on [the American Presidency Project web site](https://www.presidency.ucsb.edu/documents/presidential-documents-archive-guidebook/annual-messages-congress-the-state-the-union#Table%20of%20SOTU). What did you learn?  \n",
    "\n",
    "*Describe your answer here*\n"
   ]
  },
  {
   "cell_type": "markdown",
   "metadata": {},
   "source": [
    "### Your turn!\n",
    "\n",
    "Now explore the collection by trying out different words. Find a word or set of words that was of special interest to one or two Presidents. Give your plots and explain the context in which these words were mentioned by browsing the speeches.\n",
    "\n"
   ]
  },
  {
   "cell_type": "code",
   "execution_count": null,
   "metadata": {},
   "outputs": [],
   "source": [
    "# put your code and descriptions here\n"
   ]
  },
  {
   "cell_type": "markdown",
   "metadata": {},
   "source": [
    "## 4. Forming networks of Presidents\n",
    "\n",
    "We're now going to plot some graphs after collecting data on which presidents mention which other presidents in their SOTUs. Think of it as kind of a SOTU Facebook.\n",
    "\n",
    "Below is a small block of code (6 lines). What does it do? Write your description below, *before* running the code!\n",
    "\n",
    "*Your description goes here*\n"
   ]
  },
  {
   "cell_type": "code",
   "execution_count": null,
   "metadata": {},
   "outputs": [],
   "source": [
    "table = Table().with_column('President', presidents[0])\n",
    "print(\"Computing mentions of:\")\n",
    "for prez in presidents[0]:\n",
    "    print('\\t \"%s\"' % prez)\n",
    "    col = presidents_mentions_of_word(prez, show_table=False)\n",
    "    table = table.with_column(prez, col[1])"
   ]
  },
  {
   "cell_type": "code",
   "execution_count": null,
   "metadata": {
    "scrolled": true
   },
   "outputs": [],
   "source": [
    "# display the table\n",
    "table.show()"
   ]
  },
  {
   "cell_type": "markdown",
   "metadata": {},
   "source": [
    "\n",
    "Next, we're going to form a graph, or network, where the nodes are labeled by Presidents, and we have a directed edge from president $P_1$ to president $P_2$ if president $P_1$ mentions $P_2$ in any of his State of the Union addresses. So naturally, $P_2$ will have (almost certainly) served before $P_1$.\n",
    "\n",
    "The next bit of code reads the table, and forms another table that we call `edge_table` corresponding to the nonzero entries, which will be the edges in our graph. Don't worry about the details; just execute this cell.\n"
   ]
  },
  {
   "cell_type": "code",
   "execution_count": null,
   "metadata": {},
   "outputs": [],
   "source": [
    "from_list = []\n",
    "to_list = []\n",
    "for i in np.arange(1,table.num_rows):\n",
    "    for j in np.arange(len(table[i])):\n",
    "        if table[i][j] > 0:\n",
    "            from_list.append(table[0][j])\n",
    "            to_list.append(table[0][i-1])\n",
    "\n",
    "edge_table = Table().with_columns('From', from_list, 'To', to_list)\n",
    "edge_table"
   ]
  },
  {
   "cell_type": "markdown",
   "metadata": {},
   "source": [
    "Finally, the following code generates a graph (or network) using the `networkx` Python package. We'll give you some more code below for generating a different type of graph.\n"
   ]
  },
  {
   "cell_type": "code",
   "execution_count": null,
   "metadata": {
    "scrolled": false
   },
   "outputs": [],
   "source": [
    "!pip install networkx\n",
    "import networkx as nx\n",
    "import matplotlib.pyplot as plt\n",
    "%matplotlib inline\n",
    "\n",
    "G = nx.DiGraph()\n",
    "for i in np.arange(len(from_list)):\n",
    "    G.add_edge(from_list[i], to_list[i])\n",
    "\n",
    "# Plot it\n",
    "fig = plt.figure()\n",
    "fig.set_size_inches(12,12)\n",
    "nx.draw_circular(G, with_labels=True, node_color='lightblue', font_size=10)\n",
    "plt.title('SOTU presidential network')\n",
    "plt.show()\n"
   ]
  },
  {
   "cell_type": "markdown",
   "metadata": {},
   "source": [
    "Describe in words some of the features of this network that you observe. Who mentions whom? Who is the most mentioned? The second most? Could some of the edges be wrongly included or excluded? Explain.\n",
    "\n",
    "*You description goes here*"
   ]
  },
  {
   "cell_type": "markdown",
   "metadata": {},
   "source": [
    "## 5. Making a bipartite graph\n",
    "\n",
    "Now let's display the same information in a different form. We'll present it as a \"bipartite graph.\" This means there are two parts: Nodes on the left link to nodes on the right.  We wrote a function for you that generates such a plot. You don't need to understand or modify this code.\n"
   ]
  },
  {
   "cell_type": "code",
   "execution_count": null,
   "metadata": {},
   "outputs": [],
   "source": [
    "# function to draw bipartite from from list of edges of the form [(name0, name1), ...(name0, name1)]\n",
    "# you don't need to change this\n",
    "def make_bipartite_graph(edges):\n",
    "    new_edges = [(edge[0], edge[1]+' ') for edge in edges]\n",
    "    from_list = {edge[0] for edge in new_edges}\n",
    "    to_list = {edge[1] for edge in new_edges}\n",
    "\n",
    "    G = nx.DiGraph()\n",
    "    G.add_nodes_from(from_list, bipartite=0)\n",
    "    G.add_nodes_from(to_list, bipartite=1)\n",
    "    G.add_edges_from(new_edges)\n",
    "\n",
    "    top_nodes = {n for n, d in G.nodes(data=True) if d['bipartite']==0}\n",
    "    bottom_nodes = set(G) - top_nodes\n",
    "\n",
    "\n",
    "    l, r = nx.bipartite.sets(G, top_nodes)\n",
    "    pos = {}\n",
    "    pos.update((node, (1, index)) for index, node in enumerate(l))\n",
    "    pos.update((node, (2, index)) for index, node in enumerate(r))\n",
    "\n",
    "    fig = plt.figure()\n",
    "    fig.set_size_inches(12,12)\n",
    "    nx.draw(G, pos=pos, with_labels=True, node_color='lightblue', alpha=0.9)\n",
    "    plt.show()\n",
    "\n",
    "    \n",
    "    \n"
   ]
  },
  {
   "cell_type": "markdown",
   "metadata": {},
   "source": [
    "Now generate the bipartite graph for \"Presidential Facebook\" by calling the function `make_bipartite_graph`. To do this, we first form a list of pairs $(P_1, P_2)$, by looping over the rows in `edge_table`. Then we pass in this list to `make_bipartite_graph`"
   ]
  },
  {
   "cell_type": "code",
   "execution_count": null,
   "metadata": {
    "scrolled": false
   },
   "outputs": [],
   "source": [
    "edge_list = [(edge_table[0][i], edge_table[1][i]) for i in np.arange(edge_table.num_rows)]\n",
    "make_bipartite_graph(edge_list)\n"
   ]
  },
  {
   "cell_type": "markdown",
   "metadata": {},
   "source": [
    "## 6. Your turn!\n",
    "\n",
    "To complete this lab, we'd now like you to do the following. Find several names in the SOTU addresses of people (or places or other proper nouns) other than presidents. Then, form a list of which presidents mention each of those people, and generate the plot as a bipartite graph.\n",
    "\n",
    "Try to find about 10 or so names/places/things to compute over, which are mentioned by several presidents, so you get an interesting plot.  Just to make sure you know how to get going, here is an example with\n",
    "the targets ['Gorbachev', 'Churchill', 'Stalin', 'Lenin', 'Hitler', 'Putin']\n"
   ]
  },
  {
   "cell_type": "code",
   "execution_count": null,
   "metadata": {},
   "outputs": [],
   "source": [
    "edge_list = []\n",
    "\n",
    "for name in ['Gorbachev', 'Churchill', 'Stalin', 'Lenin', 'Hitler', 'Putin']:\n",
    "    table = presidents_mentions_of_word(name)\n",
    "    for prez in table.where('Count', are.above(0)).column('President'):\n",
    "        edge_list.append((prez, name))\n",
    "\n",
    "make_bipartite_graph(edge_list)"
   ]
  }
 ],
 "metadata": {
  "anaconda-cloud": {},
  "celltoolbar": "Raw Cell Format",
  "kernelspec": {
   "display_name": "Python 3",
   "language": "python",
   "name": "python3"
  },
  "language_info": {
   "codemirror_mode": {
    "name": "ipython",
    "version": 3
   },
   "file_extension": ".py",
   "mimetype": "text/x-python",
   "name": "python",
   "nbconvert_exporter": "python",
   "pygments_lexer": "ipython3",
   "version": "3.7.3"
  }
 },
 "nbformat": 4,
 "nbformat_minor": 1
}
