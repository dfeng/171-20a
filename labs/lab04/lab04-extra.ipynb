{
 "cells": [
  {
   "cell_type": "code",
   "execution_count": null,
   "metadata": {},
   "outputs": [],
   "source": [
    "from bs4 import BeautifulSoup\n",
    "from urllib.request import urlopen\n",
    "import re"
   ]
  },
  {
   "cell_type": "markdown",
   "metadata": {},
   "source": [
    "In this little notebook, we're going to add the latest SOTU address to our current list, by *scraping* from the internet. The final goal here is to create a new JSON file (`transcripts3.json`) that follows the same format as the older SOTU's, and includes this latest one.\n",
    "\n",
    "Make sure you look at the output, as there might be some weird artifacts in your string."
   ]
  },
  {
   "cell_type": "code",
   "execution_count": null,
   "metadata": {},
   "outputs": [],
   "source": [
    "url = \"https://www.whitehouse.gov/briefings-statements/remarks-president-trump-state-union-address-3/\"\n",
    "page = urlopen(url)"
   ]
  },
  {
   "cell_type": "markdown",
   "metadata": {},
   "source": [
    "## Version 1: Regex\n",
    "\n",
    "In this first pass, I want you to use the regex-fu that you developed last week to extract the 2020 SOTU from the above page. I've gotten you started, but feel free to begin a different way."
   ]
  },
  {
   "cell_type": "code",
   "execution_count": null,
   "metadata": {},
   "outputs": [],
   "source": [
    "lines = page.read().decode().splitlines()\n",
    "..."
   ]
  },
  {
   "cell_type": "markdown",
   "metadata": {},
   "source": [
    "## Version 2: BeautifulSoup\n",
    "\n",
    "In this second pass, we shall use the pre-eminent Python scraping package `BeautifulSoup` to do the extraction. You'll probably want to use the `find_all` function."
   ]
  },
  {
   "cell_type": "code",
   "execution_count": null,
   "metadata": {},
   "outputs": [],
   "source": [
    "soup = BeautifulSoup(page, \"lxml\")\n",
    "..."
   ]
  },
  {
   "cell_type": "markdown",
   "metadata": {},
   "source": [
    "## Back to JSON\n",
    "\n",
    "Once you've done that, use the `json` package to create a new file with the latest SOTU. `json.dump` will come in handy."
   ]
  },
  {
   "cell_type": "code",
   "execution_count": null,
   "metadata": {},
   "outputs": [],
   "source": []
  }
 ],
 "metadata": {
  "kernelspec": {
   "display_name": "Python 3",
   "language": "python",
   "name": "python3"
  },
  "language_info": {
   "codemirror_mode": {
    "name": "ipython",
    "version": 3
   },
   "file_extension": ".py",
   "mimetype": "text/x-python",
   "name": "python",
   "nbconvert_exporter": "python",
   "pygments_lexer": "ipython3",
   "version": "3.7.3"
  }
 },
 "nbformat": 4,
 "nbformat_minor": 2
}
