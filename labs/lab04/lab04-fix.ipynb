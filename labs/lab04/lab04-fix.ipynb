{
 "cells": [
  {
   "cell_type": "markdown",
   "metadata": {},
   "source": [
    "## Python vs R for Scraping\n",
    "\n",
    "I found the dataset that we used previously here in [github](https://github.com/BrianWeinstein/state-of-the-union/blob/master/get_transcripts.R). For your enjoyment, you should take a look at their code (which, by the way, gives you something wrong).\n",
    "\n",
    "Now let's compare this to beautiful, beautiful soup."
   ]
  },
  {
   "cell_type": "code",
   "execution_count": null,
   "metadata": {},
   "outputs": [],
   "source": [
    "from bs4 import BeautifulSoup\n",
    "from urllib.request import urlopen\n",
    "import re\n",
    "import datetime"
   ]
  },
  {
   "cell_type": "code",
   "execution_count": null,
   "metadata": {},
   "outputs": [],
   "source": [
    "url = \"https://www.presidency.ucsb.edu/documents/presidential-documents-archive-guidebook/annual-messages-congress-the-state-the-union\"\n",
    "page = urlopen(url)\n",
    "soup = BeautifulSoup(page, \"lxml\")\n",
    "urls = [i.get(\"href\") for i in soup.select(\"table a\")]\n",
    "urls = [u for u in urls if u is not None and u.startswith(\"http\")]"
   ]
  },
  {
   "cell_type": "code",
   "execution_count": null,
   "metadata": {},
   "outputs": [],
   "source": [
    "l = []\n",
    "for url in urls:\n",
    "    print(\"Parsing \"+url)\n",
    "    page = urlopen(url)\n",
    "    soup = BeautifulSoup(page, \"lxml\")\n",
    "    # the actual extraction steps\n",
    "    transcript = \" \".join([e.get_text(strip=True) for e in soup.select(\"div.field-docs-content p\")])\n",
    "    title = soup.select_one(\"div.field-ds-doc-title h1\").string\n",
    "    name = soup.select_one(\"div.field-title a\").string\n",
    "    # to ensure that the date format is exactly the same as what we've been using so far, I need to do some extra work\n",
    "    date = soup.select_one(\"div.field-docs-start-date-time span\").string\n",
    "    # this reads in the date (via the formatting defined here https://docs.python.org/2/library/datetime.html#strftime-and-strptime-behavior)\n",
    "    date = datetime.datetime.strptime(date, \"%B %d, %Y\")\n",
    "    # this outputs it in the format that we're used to: 2017-02-27\n",
    "    date = datetime.datetime.strftime(date, \"%Y-%m-%d\")\n",
    "    l.append({\n",
    "        \"url\": url,\n",
    "        \"title\": title,\n",
    "        \"date\": date,\n",
    "        \"president\": name,\n",
    "        \"transcript\": transcript\n",
    "    })"
   ]
  },
  {
   "cell_type": "code",
   "execution_count": null,
   "metadata": {},
   "outputs": [],
   "source": [
    "import json\n",
    "with open('transcripts-fixed.json', 'w') as f:\n",
    "    json.dump(l, f, indent=2)"
   ]
  },
  {
   "cell_type": "code",
   "execution_count": null,
   "metadata": {},
   "outputs": [],
   "source": []
  }
 ],
 "metadata": {
  "kernelspec": {
   "display_name": "Python 3",
   "language": "python",
   "name": "python3"
  },
  "language_info": {
   "codemirror_mode": {
    "name": "ipython",
    "version": 3
   },
   "file_extension": ".py",
   "mimetype": "text/x-python",
   "name": "python",
   "nbconvert_exporter": "python",
   "pygments_lexer": "ipython3",
   "version": "3.7.3"
  }
 },
 "nbformat": 4,
 "nbformat_minor": 2
}
