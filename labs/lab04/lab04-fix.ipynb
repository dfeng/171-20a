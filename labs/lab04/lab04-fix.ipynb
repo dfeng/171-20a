{
 "cells": [
  {
   "cell_type": "code",
   "execution_count": null,
   "metadata": {},
   "outputs": [],
   "source": [
    "from bs4 import BeautifulSoup\n",
    "from urllib.request import urlopen\n",
    "import re"
   ]
  },
  {
   "cell_type": "code",
   "execution_count": null,
   "metadata": {},
   "outputs": [],
   "source": [
    "url = \"https://www.presidency.ucsb.edu/documents/presidential-documents-archive-guidebook/annual-messages-congress-the-state-the-union\"\n",
    "page = urlopen(url)\n",
    "soup = BeautifulSoup(page, \"lxml\")\n",
    "urls = [i.get(\"href\") for i in soup.select(\"table a\")]\n",
    "urls = [u for u in urls if u is not None and u.startswith(\"http\")]"
   ]
  },
  {
   "cell_type": "code",
   "execution_count": null,
   "metadata": {},
   "outputs": [],
   "source": [
    "l = []\n",
    "for url in urls:\n",
    "    print(url)\n",
    "    page = urlopen(url)\n",
    "    soup = BeautifulSoup(page, \"lxml\")\n",
    "    transcript = \" \".join([e.get_text(strip=True) for e in soup.select(\"div.field-docs-content p\")])\n",
    "    title = soup.select_one(\"div.field-ds-doc-title h1\").string\n",
    "    date = soup.select_one(\"div.field-docs-start-date-time span\").string # todo: convert to date format\n",
    "    name = soup.select_one(\"div.field-title a\").string\n",
    "    l.append({\n",
    "        \"url\": url,\n",
    "        \"title\": title,\n",
    "        \"date\": date,\n",
    "        \"name\": name,\n",
    "        \"transcript\": transcript\n",
    "    })"
   ]
  },
  {
   "cell_type": "code",
   "execution_count": null,
   "metadata": {},
   "outputs": [],
   "source": [
    "import json\n",
    "with open('transcripts-fixed.json', 'w') as f:\n",
    "    json.dump(l, f, indent=2)"
   ]
  }
 ],
 "metadata": {
  "kernelspec": {
   "display_name": "Python 3",
   "language": "python",
   "name": "python3"
  },
  "language_info": {
   "codemirror_mode": {
    "name": "ipython",
    "version": 3
   },
   "file_extension": ".py",
   "mimetype": "text/x-python",
   "name": "python",
   "nbconvert_exporter": "python",
   "pygments_lexer": "ipython3",
   "version": "3.7.3"
  }
 },
 "nbformat": 4,
 "nbformat_minor": 2
}
