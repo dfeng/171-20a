{
 "cells": [
  {
   "cell_type": "markdown",
   "metadata": {},
   "source": [
    "## Lab 03: Project Gutenberg Books (2/2)\n",
    "\n",
    "In this lab we will continue working with books from the [Project Gutenberg](https://www.gutenberg.org/) collection.  We'll begin by discussing regular expressions, and then use these beautiful little gadgets to try to automatically find the main characters in a book. We'll apply this to the books from last week, and then try it on some new books.\n",
    "\n",
    "<br>\n",
    "\n"
   ]
  },
  {
   "cell_type": "code",
   "execution_count": null,
   "metadata": {},
   "outputs": [],
   "source": [
    "from datascience import *\n",
    "import numpy as np\n",
    "import re\n",
    "\n",
    "# direct plots to appear within the cell, and set their style\n",
    "%matplotlib inline\n",
    "import matplotlib.pyplot as plots\n",
    "plots.style.use('fivethirtyeight')\n"
   ]
  },
  {
   "cell_type": "markdown",
   "metadata": {},
   "source": [
    "Regular expressions are a mainstay of working with text. They can be used to *quickly* find matches of expressions in strings, but with `wildcard' characters so that we don't need to know exactly what we're searching for. In a technical sense, a regular expression takes a pattern and automatically builds a special-purpose little program that is used to search text to match that pattern. We won't discuss the details of how these work&mdash;this is done in most beginning theoretical computer science courses&mdash;but we'll get some practice using them in Python.\n"
   ]
  },
  {
   "cell_type": "markdown",
   "metadata": {},
   "source": [
    "Here is a table of some of the primary syntax used for regular expressions in Python. The syntax is similar, but usually a little bit different, across different programming languages.\n",
    "\n",
    "| Expression| Description |\n",
    "| --- | --- | \n",
    "| `^` | Matches the expression to its right at the start of a string |\n",
    "| `$` | Matches the expression to its left at the end of a string |\n",
    "| `.` | Matches any character except line terminators like `\\n` |\n",
    "| `+` | Greedily matches the expression to its left 1 or more times |\n",
    "| `*` | Greedily matches the expression to its left 0 or more times |\n",
    "| `?` | Greedily matches the expression to its left 0 or 1 times |\n",
    "| `\\w` | Matches alphanumeric characters |\n",
    "| `\\d` | Matches digits 0-9 |\n",
    "| `\\D` | Matches any non-digits |\n",
    "| `\\s` | Matches whitespace characters |\n",
    "| `\\S` | Matches non-whitespace characters |\n",
    "| `[ ]` | Contains a set of characters to match \n",
    "| `[amk]` | Matches either a, m, or k. It does not match amk|\n",
    "| `[a-z]` | Matches any letter from a to z|\n",
    "| `[a-z0-9]` | Matches characters from a to z and also from 0 to 9 |\n",
    "| `[^ab5]` | Matches characters that are not a, b, or 5|\n"
   ]
  },
  {
   "cell_type": "markdown",
   "metadata": {},
   "source": [
    "So, the expression `\\w+` matches any alphanumeric string of length at least one character, excluding whitespace. Here is an example of a regular expression that tokenizes a string into words."
   ]
  },
  {
   "cell_type": "code",
   "execution_count": null,
   "metadata": {},
   "outputs": [],
   "source": [
    "result = re.findall('\\w+', 'this is a test')\n",
    "print(result)\n",
    "\n",
    "# you can also `compile' the expression into a piece of code\n",
    "\n",
    "pattern = re.compile('\\w+')\n",
    "result = pattern.findall('this is a test')\n",
    "print(result)"
   ]
  },
  {
   "cell_type": "markdown",
   "metadata": {},
   "source": [
    "If we want to match only the first word of the string, we prefix by the `^` character, which means beginning-of-string."
   ]
  },
  {
   "cell_type": "code",
   "execution_count": null,
   "metadata": {},
   "outputs": [],
   "source": [
    "result = re.findall('^\\w+', 'this is a test')\n",
    "print(result)\n"
   ]
  },
  {
   "cell_type": "markdown",
   "metadata": {},
   "source": [
    "We can also use the `re.split` function to divide up a word by anything matching a regular expression.\n"
   ]
  },
  {
   "cell_type": "code",
   "execution_count": null,
   "metadata": {},
   "outputs": [],
   "source": [
    "re.split('\\s+', 'this is      a test')"
   ]
  },
  {
   "cell_type": "markdown",
   "metadata": {},
   "source": [
    "Note the difference if we only match a single space, changing the expression to `\\s`\n"
   ]
  },
  {
   "cell_type": "code",
   "execution_count": null,
   "metadata": {},
   "outputs": [],
   "source": [
    "re.split('\\s', 'this is      a test')"
   ]
  },
  {
   "cell_type": "markdown",
   "metadata": {},
   "source": [
    "You can test regular expressions using the web site [regex101.com](http://regex101.com). You may also find this [regex cheat sheet](https://www.dataquest.io/blog/regex-cheatsheet/) handy.\n",
    "\n",
    "The three primary methods in `re` are `re.match`, `re.search`, and `re.findall`. The difference between them is that \n",
    "`re.match` searches the pattern from the start of the string, `re.search` finds the *first* occurrence, while `re.findall` looks for occurrences of the pattern *anywhere* in the string.  Let's explore these a bit.\n"
   ]
  },
  {
   "cell_type": "code",
   "execution_count": null,
   "metadata": {},
   "outputs": [],
   "source": [
    "print(\"re.findall: %s\" % re.findall('[A-Z]\\w+', '\"This is a test,\" Mr. Smith said to Jones'))\n",
    "print(\"re.search: %s\" % re.search('[A-Z]\\w+', '\"This is a test,\" Mr. Smith said to Jones'))\n",
    "print(\"re.match: %s\" % re.match('[A-Z]\\w+', '\"This is a test,\" Mr. Smith said to Jones'))"
   ]
  },
  {
   "cell_type": "markdown",
   "metadata": {},
   "source": [
    "Since we will be focusing on finding all of the characters in a book, we'll focus on the use of `re.findall`, but the regular expressions that can be used in all of these are the same. Ok, so now let's try out one of these gadgets on Huckleberry Finn. Let's first load the book into a big string.\n",
    "\n"
   ]
  },
  {
   "cell_type": "code",
   "execution_count": null,
   "metadata": {},
   "outputs": [],
   "source": [
    "from urllib.request import urlopen \n",
    "import re\n",
    "def read_url(url): \n",
    "    return re.sub('\\\\s+', ' ', urlopen(url).read().decode())"
   ]
  },
  {
   "cell_type": "markdown",
   "metadata": {},
   "source": [
    "Recall that the online book for \"Adventures of Huckleberry Finn,\" by Mark Twain, is [here](https://www.gutenberg.org/ebooks/76).\n",
    "From this web site you can see various metadata for the book as well as the [link the text itself](https://www.gutenberg.org/files/76/76-0.txt), which is [https://www.gutenberg.org/files/76/76-0.txt](https://www.gutenberg.org/files/76/76-0.txt)\n"
   ]
  },
  {
   "cell_type": "code",
   "execution_count": null,
   "metadata": {},
   "outputs": [],
   "source": [
    "huck_finn_url = 'https://www.gutenberg.org/files/76/76-0.txt'\n",
    "huck_finn_text = read_url(huck_finn_url)\n"
   ]
  },
  {
   "cell_type": "markdown",
   "metadata": {},
   "source": [
    "The following function takes a book url, opens it to get a text string, and then finds all occurrences of \"said NAME\" using regular expressions. For each name that it finds, it re-searches the string to count all occurrences of that name. Finally a `datascience.Table` is constructed with those data, which is then sorted in decreasing order"
   ]
  },
  {
   "cell_type": "code",
   "execution_count": null,
   "metadata": {},
   "outputs": [],
   "source": [
    "\n",
    "def find_characters(book_url):\n",
    "    book_text = read_url(book_url)\n",
    "    names = {name for name in re.findall('said ([A-Z]\\w+)', book_text)}\n",
    "    counts = [len(re.findall(\"(%s)\\s\" % name, book_text)) for name in names]\n",
    "    characters = Table().with_columns('Name', names, 'Count', counts)\n",
    "    return characters.sort('Count', descending=True)\n",
    "\n",
    "url = \"https://www.gutenberg.org/files/76/76-0.txt\"\n",
    "characters = find_characters(url)\n",
    "characters"
   ]
  },
  {
   "cell_type": "markdown",
   "metadata": {},
   "source": [
    "Can we do better? Of course we can! In the following, we will explore regular expressions that use different types of phrases like \"said NAME\", include \"NAME said\", and also look for `honorific' expressions like Dr. Doolittle.\n"
   ]
  },
  {
   "cell_type": "code",
   "execution_count": null,
   "metadata": {
    "scrolled": true
   },
   "outputs": [],
   "source": [
    "dialogue = re.findall('(said|told) ([A-Z]\\w+)', '\"hi\" said John, \"yo!\" told Joan! said Steve')\n",
    "names1 = {name[1] for name in dialogue}\n",
    "\n",
    "dialogue = re.findall('([A-Z]\\w+)\\s(said)', '\"hi\" John said, \"yo!\" told Joan! said Steve')\n",
    "names2 = {name[0] for name in dialogue}\n",
    "\n",
    "titles = re.findall('(Mr\\.|Mrs\\.|Ms\\.|Dr\\.)\\s([A-Z]\\w+)', '\"Hello\" said Dr. Strangeglove to Ms. Piggy')\n",
    "names3 = {name[1] for name in titles}\n",
    "\n",
    "\n",
    "print(names1.union(names2).union(names3))"
   ]
  },
  {
   "cell_type": "markdown",
   "metadata": {},
   "source": [
    "Now, let's extend the function above to include this richer set of regular expressions\n"
   ]
  },
  {
   "cell_type": "code",
   "execution_count": null,
   "metadata": {},
   "outputs": [],
   "source": [
    "def find_characters(book_url):\n",
    "    ..."
   ]
  },
  {
   "cell_type": "markdown",
   "metadata": {},
   "source": [
    "## Your turn!\n",
    "\n",
    "Your task is to now take this starter code and package up the regular expressions into a function that you can use to find the characters in the same book(s) you chose for Lab 02. \n",
    "\n",
    "* First apply it to your Lab 02 book(s)\n",
    "\n",
    "* Then, apply it to some new books. \n",
    "\n",
    "* How well does it work? Describe the results and any false positives or negatives. If needed you can use Wikipedia or even [Sparknotes](https://www.sparknotes.com/) to determine the true cast of characters in the books.\n",
    "\n",
    "Next, extend the function and regular expressions in order to do a better job pulling out the names in the book. \n",
    "\n",
    "* Write a new function that changes the regular expressions with the goal of more accurately finding a book's characters. \n",
    "\n",
    "* What are some of the errors that were made? How did you attempt to fix these errors? \n",
    "\n",
    "* Give a description of your findings together with an informal analysis of how accurate your final method is.\n",
    "\n",
    "\n",
    "\n",
    "\n"
   ]
  }
 ],
 "metadata": {
  "anaconda-cloud": {},
  "celltoolbar": "Raw Cell Format",
  "kernelspec": {
   "display_name": "Python 3",
   "language": "python",
   "name": "python3"
  },
  "language_info": {
   "codemirror_mode": {
    "name": "ipython",
    "version": 3
   },
   "file_extension": ".py",
   "mimetype": "text/x-python",
   "name": "python",
   "nbconvert_exporter": "python",
   "pygments_lexer": "ipython3",
   "version": "3.7.3"
  }
 },
 "nbformat": 4,
 "nbformat_minor": 1
}
